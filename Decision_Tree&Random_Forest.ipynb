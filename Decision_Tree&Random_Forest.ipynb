{
 "cells": [
  {
   "cell_type": "markdown",
   "id": "42769f64",
   "metadata": {},
   "source": [
    "# WEEK7"
   ]
  },
  {
   "cell_type": "code",
   "execution_count": 1,
   "id": "f83f2268",
   "metadata": {},
   "outputs": [
    {
     "name": "stdout",
     "output_type": "stream",
     "text": [
      "C:\\ProgramData\\Anaconda3;C:\\ProgramData\\Anaconda3\\Library\\mingw-w64\\bin;C:\\ProgramData\\Anaconda3\\Library\\usr\\bin;C:\\ProgramData\\Anaconda3\\Library\\bin;C:\\ProgramData\\Anaconda3\\Scripts;C:\\ProgramData\\Anaconda3\\bin;C:\\ProgramData\\Anaconda3\\condabin;C:\\ProgramData\\Anaconda3;C:\\ProgramData\\Anaconda3\\Library\\mingw-w64\\bin;C:\\ProgramData\\Anaconda3\\Library\\usr\\bin;C:\\ProgramData\\Anaconda3\\Library\\bin;C:\\ProgramData\\Anaconda3\\Scripts;c:\\app\\client\\admin\\product\\19.0.0\\client_1\\bin;C:\\Program Files\\Common Files\\Oracle\\Java\\javapath;C:\\Windows\\system32;C:\\Windows;C:\\Windows\\System32\\Wbem;C:\\Windows\\System32\\WindowsPowerShell\\v1.0;C:\\Windows\\System32\\OpenSSH;C:\\Program Files\\Java\\jdk-17.0.2\\bin;C:\\Users\\mca\\Downloads\\windows_10_cmake_Release_Graphviz-12.2.1-win64\\Graphviz-12.2.1-win64\\bin;C:\\Users\\mca\\AppData\\Local\\Microsoft\\WindowsApps;C:\\Users\\mca\\AppData\\Local\\Programs\\Microsoft VS Code\\bin\n"
     ]
    }
   ],
   "source": [
    "import os\n",
    "print(os.environ['PATH'])"
   ]
  },
  {
   "cell_type": "code",
   "execution_count": 2,
   "id": "b6198174",
   "metadata": {},
   "outputs": [],
   "source": [
    "import os\n",
    "os.environ[\"PATH\"] += os.pathsep + r\"C:\\Users\\mca\\Downloads\\windows_10_cmake_Release_Graphviz-12.2.1-win64\\Graphviz-12.2.1-win64\\bin\""
   ]
  },
  {
   "cell_type": "code",
   "execution_count": 5,
   "id": "2869882e",
   "metadata": {},
   "outputs": [
    {
     "name": "stdout",
     "output_type": "stream",
     "text": [
      "0.20.3\n"
     ]
    },
    {
     "data": {
      "text/plain": [
       "'simple_graph.png'"
      ]
     },
     "execution_count": 5,
     "metadata": {},
     "output_type": "execute_result"
    }
   ],
   "source": [
    "import graphviz\n",
    "print(graphviz.__version__)\n",
    "\n",
    "# Try rendering a basic graph\n",
    "dot_data = \"digraph G { A -> B }\"\n",
    "graph = graphviz.Source(dot_data)\n",
    "graph.render(\"simple_graph\", format=\"png\", view=True)  # This should show a simple graph\n"
   ]
  },
  {
   "cell_type": "code",
   "execution_count": 4,
   "id": "2c2b7894",
   "metadata": {},
   "outputs": [
    {
     "data": {
      "text/plain": [
       "'simple_decision_tree.pdf'"
      ]
     },
     "execution_count": 4,
     "metadata": {},
     "output_type": "execute_result"
    }
   ],
   "source": [
    "from sklearn.datasets import load_iris\n",
    "from sklearn.tree import DecisionTreeClassifier, export_graphviz\n",
    "\n",
    "# Load a simple dataset\n",
    "iris = load_iris()\n",
    "X = iris.data\n",
    "y = iris.target\n",
    "\n",
    "# Train a simple decision tree\n",
    "clf = DecisionTreeClassifier(random_state=42)\n",
    "clf.fit(X, y)\n",
    "\n",
    "# Visualize the decision tree\n",
    "dot_data = export_graphviz(clf, \n",
    "                           feature_names=iris.feature_names,  \n",
    "                           class_names=iris.target_names,  \n",
    "                           filled=True, rounded=True,  \n",
    "                           special_characters=True)  \n",
    "\n",
    "graph = graphviz.Source(dot_data)\n",
    "graph.render(\"simple_decision_tree\")\n",
    "graph.view()"
   ]
  },
  {
   "cell_type": "markdown",
   "id": "4d699a05",
   "metadata": {},
   "source": [
    "## EX 1"
   ]
  },
  {
   "cell_type": "markdown",
   "id": "d0d521ae",
   "metadata": {},
   "source": [
    "### Q1 1.\tUse the German credit rating dataset “German Credit Data.csv” , Decision tree classifier to predict good or bad credit. Use “sklearn.model_selection”  and  GridSearchCV to search the hyperparameter values and report the most optimal one. Configure the grid search to search for optimal parameters:\n",
    "•\tSplitting criteria: gini or entropy.\n",
    "•\tMaximum depth of decision tree ranging from 2 to 10.\n",
    "•\tThe searching of optimal parameter will be validated using 10-fold cross validation and the most optimal parameter will be chosen based on ROC AUC score.\n",
    "\n"
   ]
  },
  {
   "cell_type": "code",
   "execution_count": 7,
   "id": "a82a9fd0",
   "metadata": {},
   "outputs": [
    {
     "name": "stdout",
     "output_type": "stream",
     "text": [
      "Best Parameters: {'criterion': 'gini', 'max_depth': 5}\n",
      "Best ROC AUC Score: 0.7409544416396201\n"
     ]
    }
   ],
   "source": [
    "import pandas as pd\n",
    "import numpy as np\n",
    "from sklearn.model_selection import train_test_split, GridSearchCV\n",
    "from sklearn.tree import DecisionTreeClassifier\n",
    "from sklearn.metrics import roc_auc_score\n",
    "\n",
    "df = pd.read_csv(\"German Credit Data.csv\")\n",
    "\n",
    "\n",
    "df = pd.get_dummies(df, drop_first=True)\n",
    "\n",
    "X = df.drop(columns=[\"status\"])\n",
    "y = df[\"status\"]\n",
    "\n",
    "\n",
    "X_train, X_test, y_train, y_test = train_test_split(X, y, test_size=0.2, random_state=42)\n",
    "\n",
    "\n",
    "param_grid = {\n",
    "    \"criterion\": [\"gini\", \"entropy\"],\n",
    "    \"max_depth\": range(2, 11)\n",
    "}\n",
    "\n",
    "\n",
    "grid_search = GridSearchCV(DecisionTreeClassifier(random_state=42), param_grid, \n",
    "                           scoring=\"roc_auc\", cv=10, n_jobs=-1)\n",
    "grid_search.fit(X_train, y_train)\n",
    "\n",
    "\n",
    "best_model = grid_search.best_estimator_\n",
    "y_pred_proba = best_model.predict_proba(X_test)[:, 1]\n",
    "roc_auc = roc_auc_score(y_test, y_pred_proba)\n",
    "\n",
    "print(\"Best Parameters:\", grid_search.best_params_)\n",
    "print(\"Best ROC AUC Score:\", roc_auc)\n"
   ]
  },
  {
   "cell_type": "markdown",
   "id": "f479301f",
   "metadata": {},
   "source": [
    "### Q2. Visualize the tree using graphviz toolkit.\n"
   ]
  },
  {
   "cell_type": "code",
   "execution_count": 8,
   "id": "80561029",
   "metadata": {},
   "outputs": [
    {
     "data": {
      "text/plain": [
       "'decision_tree.pdf'"
      ]
     },
     "execution_count": 8,
     "metadata": {},
     "output_type": "execute_result"
    }
   ],
   "source": [
    "from sklearn.tree import export_graphviz\n",
    "import graphviz\n",
    "\n",
    "dot_data = export_graphviz(best_model, out_file=None, feature_names=X.columns, \n",
    "                           class_names=[\"Bad Credit\", \"Good Credit\"], filled=True, rounded=True)\n",
    "\n",
    "\n",
    "graph = graphviz.Source(dot_data)\n",
    "graph.render(\"decision_tree\")  \n",
    "graph.view()\n"
   ]
  },
  {
   "cell_type": "markdown",
   "id": "aac9909c",
   "metadata": {},
   "source": [
    "###  Q3 Display the text representation of the rules learnt."
   ]
  },
  {
   "cell_type": "code",
   "execution_count": 9,
   "id": "ddf355ae",
   "metadata": {},
   "outputs": [
    {
     "name": "stdout",
     "output_type": "stream",
     "text": [
      "|--- checkin_acc_A14 <= 0.50\n",
      "|   |--- duration <= 22.50\n",
      "|   |   |--- credit_history_A31 <= 0.50\n",
      "|   |   |   |--- amount <= 1285.00\n",
      "|   |   |   |   |--- amount <= 1207.50\n",
      "|   |   |   |   |   |--- class: 0\n",
      "|   |   |   |   |--- amount >  1207.50\n",
      "|   |   |   |   |   |--- class: 1\n",
      "|   |   |   |--- amount >  1285.00\n",
      "|   |   |   |   |--- amount <= 7491.50\n",
      "|   |   |   |   |   |--- class: 0\n",
      "|   |   |   |   |--- amount >  7491.50\n",
      "|   |   |   |   |   |--- class: 1\n",
      "|   |   |--- credit_history_A31 >  0.50\n",
      "|   |   |   |--- amount <= 553.00\n",
      "|   |   |   |   |--- class: 0\n",
      "|   |   |   |--- amount >  553.00\n",
      "|   |   |   |   |--- checkin_acc_A13 <= 0.50\n",
      "|   |   |   |   |   |--- class: 1\n",
      "|   |   |   |   |--- checkin_acc_A13 >  0.50\n",
      "|   |   |   |   |   |--- class: 0\n",
      "|   |--- duration >  22.50\n",
      "|   |   |--- savings_acc_A65 <= 0.50\n",
      "|   |   |   |--- duration <= 47.50\n",
      "|   |   |   |   |--- checkin_acc_A13 <= 0.50\n",
      "|   |   |   |   |   |--- class: 1\n",
      "|   |   |   |   |--- checkin_acc_A13 >  0.50\n",
      "|   |   |   |   |   |--- class: 0\n",
      "|   |   |   |--- duration >  47.50\n",
      "|   |   |   |   |--- savings_acc_A63 <= 0.50\n",
      "|   |   |   |   |   |--- class: 1\n",
      "|   |   |   |   |--- savings_acc_A63 >  0.50\n",
      "|   |   |   |   |   |--- class: 0\n",
      "|   |   |--- savings_acc_A65 >  0.50\n",
      "|   |   |   |--- amount <= 1548.00\n",
      "|   |   |   |   |--- class: 1\n",
      "|   |   |   |--- amount >  1548.00\n",
      "|   |   |   |   |--- credit_history_A32 <= 0.50\n",
      "|   |   |   |   |   |--- class: 0\n",
      "|   |   |   |   |--- credit_history_A32 >  0.50\n",
      "|   |   |   |   |   |--- class: 0\n",
      "|--- checkin_acc_A14 >  0.50\n",
      "|   |--- inst_plans_A143 <= 0.50\n",
      "|   |   |--- residing_since <= 2.50\n",
      "|   |   |   |--- age <= 34.50\n",
      "|   |   |   |   |--- duration <= 11.00\n",
      "|   |   |   |   |   |--- class: 1\n",
      "|   |   |   |   |--- duration >  11.00\n",
      "|   |   |   |   |   |--- class: 0\n",
      "|   |   |   |--- age >  34.50\n",
      "|   |   |   |   |--- personal_status_A92 <= 0.50\n",
      "|   |   |   |   |   |--- class: 1\n",
      "|   |   |   |   |--- personal_status_A92 >  0.50\n",
      "|   |   |   |   |   |--- class: 0\n",
      "|   |   |--- residing_since >  2.50\n",
      "|   |   |   |--- amount <= 1005.00\n",
      "|   |   |   |   |--- duration <= 15.00\n",
      "|   |   |   |   |   |--- class: 1\n",
      "|   |   |   |   |--- duration >  15.00\n",
      "|   |   |   |   |   |--- class: 0\n",
      "|   |   |   |--- amount >  1005.00\n",
      "|   |   |   |   |--- present_emp_since_A73 <= 0.50\n",
      "|   |   |   |   |   |--- class: 0\n",
      "|   |   |   |   |--- present_emp_since_A73 >  0.50\n",
      "|   |   |   |   |   |--- class: 0\n",
      "|   |--- inst_plans_A143 >  0.50\n",
      "|   |   |--- age <= 31.50\n",
      "|   |   |   |--- amount <= 6465.50\n",
      "|   |   |   |   |--- age <= 22.50\n",
      "|   |   |   |   |   |--- class: 0\n",
      "|   |   |   |   |--- age >  22.50\n",
      "|   |   |   |   |   |--- class: 0\n",
      "|   |   |   |--- amount >  6465.50\n",
      "|   |   |   |   |--- duration <= 39.00\n",
      "|   |   |   |   |   |--- class: 1\n",
      "|   |   |   |   |--- duration >  39.00\n",
      "|   |   |   |   |   |--- class: 0\n",
      "|   |   |--- age >  31.50\n",
      "|   |   |   |--- amount <= 4558.50\n",
      "|   |   |   |   |--- savings_acc_A64 <= 0.50\n",
      "|   |   |   |   |   |--- class: 0\n",
      "|   |   |   |   |--- savings_acc_A64 >  0.50\n",
      "|   |   |   |   |   |--- class: 0\n",
      "|   |   |   |--- amount >  4558.50\n",
      "|   |   |   |   |--- amount <= 4651.00\n",
      "|   |   |   |   |   |--- class: 1\n",
      "|   |   |   |   |--- amount >  4651.00\n",
      "|   |   |   |   |   |--- class: 0\n",
      "\n"
     ]
    }
   ],
   "source": [
    "from sklearn.tree import export_text\n",
    "\n",
    "# Print decision rules\n",
    "tree_rules = export_text(best_model, feature_names=list(X.columns))\n",
    "print(tree_rules)"
   ]
  },
  {
   "cell_type": "markdown",
   "id": "a7bf5c39",
   "metadata": {},
   "source": [
    "## EX2"
   ]
  },
  {
   "cell_type": "markdown",
   "id": "e9990c11",
   "metadata": {},
   "source": [
    "### Q1 Use the iris dataset to implement , Decision tree classifier Implement a decision tree classifier, Train it on 80% of the dataset and test on the remaining 20%. Print the classification report and confusion matrix.\n"
   ]
  },
  {
   "cell_type": "code",
   "execution_count": 10,
   "id": "624429a4",
   "metadata": {},
   "outputs": [
    {
     "name": "stdout",
     "output_type": "stream",
     "text": [
      "Classification Report:\n",
      "               precision    recall  f1-score   support\n",
      "\n",
      "           0       1.00      1.00      1.00        10\n",
      "           1       0.90      0.90      0.90        10\n",
      "           2       0.90      0.90      0.90        10\n",
      "\n",
      "    accuracy                           0.93        30\n",
      "   macro avg       0.93      0.93      0.93        30\n",
      "weighted avg       0.93      0.93      0.93        30\n",
      "\n",
      "Confusion Matrix:\n",
      " [[10  0  0]\n",
      " [ 0  9  1]\n",
      " [ 0  1  9]]\n"
     ]
    },
    {
     "data": {
      "image/png": "[encoded data removed]",
      "text/plain": [
       "<Figure size 432x288 with 2 Axes>"
      ]
     },
     "metadata": {
      "needs_background": "light"
     },
     "output_type": "display_data"
    }
   ],
   "source": [
    "import numpy as np\n",
    "import pandas as pd\n",
    "import matplotlib.pyplot as plt\n",
    "from sklearn.datasets import load_iris\n",
    "from sklearn.model_selection import train_test_split, GridSearchCV\n",
    "from sklearn.tree import DecisionTreeClassifier, export_text\n",
    "from sklearn.metrics import classification_report, confusion_matrix\n",
    "import seaborn as sns\n",
    "\n",
    "iris=load_iris()\n",
    "X=pd.DataFrame(iris.data, columns=iris.feature_names)\n",
    "y = iris.target\n",
    "\n",
    "X_train, X_test, y_train, y_test = train_test_split(X, y, test_size=0.2, random_state=42, stratify=y)\n",
    "\n",
    "\n",
    "clf = DecisionTreeClassifier(random_state=42)\n",
    "clf.fit(X_train, y_train)\n",
    "\n",
    "y_pred = clf.predict(X_test)\n",
    "\n",
    "print(\"Classification Report:\\n\", classification_report(y_test, y_pred))\n",
    "print(\"Confusion Matrix:\\n\", confusion_matrix(y_test, y_pred))\n",
    "\n",
    "\n",
    "sns.heatmap(confusion_matrix(y_test, y_pred), annot=True, cmap=\"Blues\", fmt=\"d\",\n",
    "            xticklabels=iris.target_names, yticklabels=iris.target_names)\n",
    "plt.xlabel(\"Predicted\")\n",
    "plt.ylabel(\"Actual\")\n",
    "plt.title(\"Confusion Matrix\")\n",
    "plt.show()\n"
   ]
  },
  {
   "cell_type": "markdown",
   "id": "a548d3e1",
   "metadata": {},
   "source": [
    "### Q2 Optimize Hyperparameters Using Grid Search Use GridSearchCV to tune max_depth, min_samples_split, and criterion. Report the best hyperparameter combination and corresponding accuracy.\n"
   ]
  },
  {
   "cell_type": "code",
   "execution_count": 11,
   "id": "fb23aca7",
   "metadata": {},
   "outputs": [
    {
     "name": "stdout",
     "output_type": "stream",
     "text": [
      "Best Hyperparameters: {'criterion': 'gini', 'max_depth': 4, 'min_samples_split': 2}\n",
      "Best Accuracy: 0.9416666666666668\n",
      "Classification Report with Optimized Parameters:\n",
      "               precision    recall  f1-score   support\n",
      "\n",
      "           0       1.00      1.00      1.00        10\n",
      "           1       0.90      0.90      0.90        10\n",
      "           2       0.90      0.90      0.90        10\n",
      "\n",
      "    accuracy                           0.93        30\n",
      "   macro avg       0.93      0.93      0.93        30\n",
      "weighted avg       0.93      0.93      0.93        30\n",
      "\n"
     ]
    }
   ],
   "source": [
    "\n",
    "param_grid = {\n",
    "    \"max_depth\": range(1, 11),\n",
    "    \"min_samples_split\": [2, 5, 10],\n",
    "    \"criterion\": [\"gini\", \"entropy\"]\n",
    "}\n",
    "\n",
    "\n",
    "grid_search = GridSearchCV(DecisionTreeClassifier(random_state=42), param_grid, \n",
    "                           scoring=\"accuracy\", cv=5, n_jobs=-1)\n",
    "grid_search.fit(X_train, y_train)\n",
    "\n",
    "\n",
    "print(\"Best Hyperparameters:\", grid_search.best_params_)\n",
    "print(\"Best Accuracy:\", grid_search.best_score_)\n",
    "\n",
    "\n",
    "best_model = grid_search.best_estimator_\n",
    "y_pred_best = best_model.predict(X_test)\n",
    "\n",
    "\n",
    "print(\"Classification Report with Optimized Parameters:\\n\", classification_report(y_test, y_pred_best))\n"
   ]
  },
  {
   "cell_type": "markdown",
   "id": "67bf7392",
   "metadata": {},
   "source": [
    "### Q3 Pruning the Decision Tree Implement post-pruning using cost-complexity pruning (ccp_alpha). Find the optimal ccp_alpha by plotting accuracy vs. ccp_alpha values.\n"
   ]
  },
  {
   "cell_type": "code",
   "execution_count": 12,
   "id": "2ad8d39d",
   "metadata": {},
   "outputs": [
    {
     "data": {
      "image/png": "[encoded data removed]",
      "text/plain": [
       "<Figure size 576x360 with 1 Axes>"
      ]
     },
     "metadata": {
      "needs_background": "light"
     },
     "output_type": "display_data"
    },
    {
     "name": "stdout",
     "output_type": "stream",
     "text": [
      "Optimal ccp_alpha: 0.00811403508771929\n",
      "Classification Report After Pruning:\n",
      "               precision    recall  f1-score   support\n",
      "\n",
      "           0       1.00      1.00      1.00        10\n",
      "           1       1.00      0.90      0.95        10\n",
      "           2       0.91      1.00      0.95        10\n",
      "\n",
      "    accuracy                           0.97        30\n",
      "   macro avg       0.97      0.97      0.97        30\n",
      "weighted avg       0.97      0.97      0.97        30\n",
      "\n"
     ]
    }
   ],
   "source": [
    "\n",
    "path = best_model.cost_complexity_pruning_path(X_train, y_train)\n",
    "ccp_alphas = path.ccp_alphas[:-1]\n",
    "train_scores, test_scores = [], []\n",
    "\n",
    "\n",
    "for ccp_alpha in ccp_alphas:\n",
    "    pruned_clf = DecisionTreeClassifier(random_state=42, ccp_alpha=ccp_alpha)\n",
    "    pruned_clf.fit(X_train, y_train)\n",
    "    train_scores.append(pruned_clf.score(X_train, y_train))\n",
    "    test_scores.append(pruned_clf.score(X_test, y_test))\n",
    "\n",
    "\n",
    "plt.figure(figsize=(8, 5))\n",
    "plt.plot(ccp_alphas, train_scores, marker=\"o\", label=\"Train Accuracy\")\n",
    "plt.plot(ccp_alphas, test_scores, marker=\"o\", label=\"Test Accuracy\")\n",
    "plt.xlabel(\"ccp_alpha\")\n",
    "plt.ylabel(\"Accuracy\")\n",
    "plt.title(\"Accuracy vs ccp_alpha\")\n",
    "plt.legend()\n",
    "plt.show()\n",
    "\n",
    "\n",
    "optimal_alpha = ccp_alphas[np.argmax(test_scores)]\n",
    "print(\"Optimal ccp_alpha:\", optimal_alpha)\n",
    "\n",
    "\n",
    "pruned_model = DecisionTreeClassifier(random_state=42, ccp_alpha=optimal_alpha)\n",
    "pruned_model.fit(X_train, y_train)\n",
    "\n",
    "\n",
    "y_pred_pruned = pruned_model.predict(X_test)\n",
    "print(\"Classification Report After Pruning:\\n\", classification_report(y_test, y_pred_pruned))\n"
   ]
  },
  {
   "cell_type": "markdown",
   "id": "9a7fba9c",
   "metadata": {},
   "source": [
    "### Feature Importance Analysis Extract and plot feature importance values from the trained decision tree. Drop the least important feature and retrain the model. Does accuracy improve or decline?\n"
   ]
  },
  {
   "cell_type": "code",
   "execution_count": 13,
   "id": "b22c1e5b",
   "metadata": {},
   "outputs": [
    {
     "data": {
      "image/png": "[encoded data removed]",
      "text/plain": [
       "<Figure size 576x360 with 1 Axes>"
      ]
     },
     "metadata": {
      "needs_background": "light"
     },
     "output_type": "display_data"
    },
    {
     "name": "stdout",
     "output_type": "stream",
     "text": [
      "Least Important Feature: sepal length (cm)\n",
      "Classification Report After Dropping Least Important Feature:\n",
      "               precision    recall  f1-score   support\n",
      "\n",
      "           0       1.00      1.00      1.00        10\n",
      "           1       1.00      0.90      0.95        10\n",
      "           2       0.91      1.00      0.95        10\n",
      "\n",
      "    accuracy                           0.97        30\n",
      "   macro avg       0.97      0.97      0.97        30\n",
      "weighted avg       0.97      0.97      0.97        30\n",
      "\n",
      "Original Accuracy: 0.9333, Reduced Accuracy: 0.9667\n",
      "Accuracy Improved!\n"
     ]
    }
   ],
   "source": [
    "\n",
    "importances = best_model.feature_importances_\n",
    "feature_names = X.columns\n",
    "\n",
    "plt.figure(figsize=(8, 5))\n",
    "plt.barh(feature_names, importances, color=\"skyblue\")\n",
    "plt.xlabel(\"Feature Importance\")\n",
    "plt.ylabel(\"Feature\")\n",
    "plt.title(\"Feature Importance Analysis\")\n",
    "plt.show()\n",
    "\n",
    "least_important_feature = feature_names[np.argmin(importances)]\n",
    "print(\"Least Important Feature:\", least_important_feature)\n",
    "\n",
    "X_train_reduced = X_train.drop(columns=[least_important_feature])\n",
    "X_test_reduced = X_test.drop(columns=[least_important_feature])\n",
    "\n",
    "reduced_clf = DecisionTreeClassifier(random_state=42, **grid_search.best_params_)\n",
    "reduced_clf.fit(X_train_reduced, y_train)\n",
    "\n",
    "y_pred_reduced = reduced_clf.predict(X_test_reduced)\n",
    "print(\"Classification Report After Dropping Least Important Feature:\\n\", classification_report(y_test, y_pred_reduced))\n",
    "\n",
    "original_accuracy = best_model.score(X_test, y_test)\n",
    "reduced_accuracy = reduced_clf.score(X_test_reduced, y_test)\n",
    "\n",
    "print(f\"Original Accuracy: {original_accuracy:.4f}, Reduced Accuracy: {reduced_accuracy:.4f}\")\n",
    "if reduced_accuracy > original_accuracy:\n",
    "    print(\"Accuracy Improved!\")\n",
    "else:\n",
    "    print(\"Accuracy Declined!\")\n"
   ]
  },
  {
   "cell_type": "code",
   "execution_count": null,
   "id": "b4d0b869",
   "metadata": {},
   "outputs": [],
   "source": []
  }
 ],
 "metadata": {
  "kernelspec": {
   "display_name": "Python 3 (ipykernel)",
   "language": "python",
   "name": "python3"
  },
  "language_info": {
   "codemirror_mode": {
    "name": "ipython",
    "version": 3
   },
   "file_extension": ".py",
   "mimetype": "text/x-python",
   "name": "python",
   "nbconvert_exporter": "python",
   "pygments_lexer": "ipython3",
   "version": "3.9.12"
  }
 },
 "nbformat": 4,
 "nbformat_minor": 5
}
