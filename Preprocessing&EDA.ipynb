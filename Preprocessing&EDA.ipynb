{
 "cells": [
  {
   "cell_type": "markdown",
   "id": "a61c733e",
   "metadata": {},
   "source": [
    "# WEEK1"
   ]
  },
  {
   "cell_type": "markdown",
   "id": "4501a5b0",
   "metadata": {},
   "source": [
    "## EX1"
   ]
  },
  {
   "cell_type": "code",
   "execution_count": 17,
   "id": "15022438",
   "metadata": {},
   "outputs": [
    {
     "data": {
      "text/html": [
       "<div>\n",
       "<style scoped>\n",
       "    .dataframe tbody tr th:only-of-type {\n",
       "        vertical-align: middle;\n",
       "    }\n",
       "\n",
       "    .dataframe tbody tr th {\n",
       "        vertical-align: top;\n",
       "    }\n",
       "\n",
       "    .dataframe thead th {\n",
       "        text-align: right;\n",
       "    }\n",
       "</style>\n",
       "<table border=\"1\" class=\"dataframe\">\n",
       "  <thead>\n",
       "    <tr style=\"text-align: right;\">\n",
       "      <th></th>\n",
       "      <th>Date</th>\n",
       "      <th>Product Name</th>\n",
       "      <th>Units Sold</th>\n",
       "      <th>Revenue</th>\n",
       "      <th>Region</th>\n",
       "      <th>Discount Offered (%)</th>\n",
       "      <th>Salesperson</th>\n",
       "    </tr>\n",
       "  </thead>\n",
       "  <tbody>\n",
       "    <tr>\n",
       "      <th>0</th>\n",
       "      <td>2025-01-01</td>\n",
       "      <td>Telivision</td>\n",
       "      <td>2</td>\n",
       "      <td>5000</td>\n",
       "      <td>North</td>\n",
       "      <td>0</td>\n",
       "      <td>Abhi</td>\n",
       "    </tr>\n",
       "    <tr>\n",
       "      <th>1</th>\n",
       "      <td>2025-01-02</td>\n",
       "      <td>Bulb</td>\n",
       "      <td>10</td>\n",
       "      <td>6000</td>\n",
       "      <td>West</td>\n",
       "      <td>5</td>\n",
       "      <td>Alice</td>\n",
       "    </tr>\n",
       "    <tr>\n",
       "      <th>2</th>\n",
       "      <td>2025-01-03</td>\n",
       "      <td>Refrigerator</td>\n",
       "      <td>2</td>\n",
       "      <td>4000</td>\n",
       "      <td>North</td>\n",
       "      <td>15</td>\n",
       "      <td>Manish</td>\n",
       "    </tr>\n",
       "    <tr>\n",
       "      <th>3</th>\n",
       "      <td>2025-01-04</td>\n",
       "      <td>Smartwatch</td>\n",
       "      <td>5</td>\n",
       "      <td>2500</td>\n",
       "      <td>South</td>\n",
       "      <td>20</td>\n",
       "      <td>Raghav</td>\n",
       "    </tr>\n",
       "    <tr>\n",
       "      <th>4</th>\n",
       "      <td>2025-01-05</td>\n",
       "      <td>Headphones</td>\n",
       "      <td>15</td>\n",
       "      <td>1500</td>\n",
       "      <td>East</td>\n",
       "      <td>25</td>\n",
       "      <td>Raghav</td>\n",
       "    </tr>\n",
       "    <tr>\n",
       "      <th>5</th>\n",
       "      <td>2025-01-06</td>\n",
       "      <td>Smartphone</td>\n",
       "      <td>7</td>\n",
       "      <td>7000</td>\n",
       "      <td>South</td>\n",
       "      <td>10</td>\n",
       "      <td>Raj</td>\n",
       "    </tr>\n",
       "    <tr>\n",
       "      <th>6</th>\n",
       "      <td>2025-01-07</td>\n",
       "      <td>Tablet</td>\n",
       "      <td>2</td>\n",
       "      <td>3000</td>\n",
       "      <td>East</td>\n",
       "      <td>5</td>\n",
       "      <td>Manish</td>\n",
       "    </tr>\n",
       "    <tr>\n",
       "      <th>7</th>\n",
       "      <td>2025-01-08</td>\n",
       "      <td>Laptop</td>\n",
       "      <td>1</td>\n",
       "      <td>6000</td>\n",
       "      <td>North</td>\n",
       "      <td>15</td>\n",
       "      <td>Abhi</td>\n",
       "    </tr>\n",
       "    <tr>\n",
       "      <th>8</th>\n",
       "      <td>2025-01-09</td>\n",
       "      <td>Heater</td>\n",
       "      <td>2</td>\n",
       "      <td>2000</td>\n",
       "      <td>West</td>\n",
       "      <td>20</td>\n",
       "      <td>Raghav</td>\n",
       "    </tr>\n",
       "    <tr>\n",
       "      <th>9</th>\n",
       "      <td>2025-01-10</td>\n",
       "      <td>Telivision</td>\n",
       "      <td>1</td>\n",
       "      <td>1300</td>\n",
       "      <td>South</td>\n",
       "      <td>25</td>\n",
       "      <td>Raj</td>\n",
       "    </tr>\n",
       "    <tr>\n",
       "      <th>10</th>\n",
       "      <td>2025-01-11</td>\n",
       "      <td>Laptop</td>\n",
       "      <td>5</td>\n",
       "      <td>5500</td>\n",
       "      <td>North</td>\n",
       "      <td>10</td>\n",
       "      <td>Abhi</td>\n",
       "    </tr>\n",
       "    <tr>\n",
       "      <th>11</th>\n",
       "      <td>2025-01-12</td>\n",
       "      <td>Air Conditioner</td>\n",
       "      <td>10</td>\n",
       "      <td>3500</td>\n",
       "      <td>East</td>\n",
       "      <td>5</td>\n",
       "      <td>Raghav</td>\n",
       "    </tr>\n",
       "    <tr>\n",
       "      <th>12</th>\n",
       "      <td>2025-01-13</td>\n",
       "      <td>Smartphone</td>\n",
       "      <td>8</td>\n",
       "      <td>6200</td>\n",
       "      <td>South</td>\n",
       "      <td>15</td>\n",
       "      <td>Manish</td>\n",
       "    </tr>\n",
       "    <tr>\n",
       "      <th>13</th>\n",
       "      <td>2025-01-14</td>\n",
       "      <td>Bulb</td>\n",
       "      <td>13</td>\n",
       "      <td>2700</td>\n",
       "      <td>West</td>\n",
       "      <td>20</td>\n",
       "      <td>Manish</td>\n",
       "    </tr>\n",
       "    <tr>\n",
       "      <th>14</th>\n",
       "      <td>2025-01-15</td>\n",
       "      <td>Headphones</td>\n",
       "      <td>14</td>\n",
       "      <td>1600</td>\n",
       "      <td>North</td>\n",
       "      <td>25</td>\n",
       "      <td>Shivam</td>\n",
       "    </tr>\n",
       "    <tr>\n",
       "      <th>15</th>\n",
       "      <td>2025-01-16</td>\n",
       "      <td>Laptop</td>\n",
       "      <td>7</td>\n",
       "      <td>7000</td>\n",
       "      <td>East</td>\n",
       "      <td>10</td>\n",
       "      <td>Raj</td>\n",
       "    </tr>\n",
       "    <tr>\n",
       "      <th>16</th>\n",
       "      <td>2025-01-17</td>\n",
       "      <td>Tablet</td>\n",
       "      <td>9</td>\n",
       "      <td>3100</td>\n",
       "      <td>South</td>\n",
       "      <td>5</td>\n",
       "      <td>Abhi</td>\n",
       "    </tr>\n",
       "    <tr>\n",
       "      <th>17</th>\n",
       "      <td>2025-01-18</td>\n",
       "      <td>Smartphone</td>\n",
       "      <td>5</td>\n",
       "      <td>5800</td>\n",
       "      <td>West</td>\n",
       "      <td>15</td>\n",
       "      <td>Shivam</td>\n",
       "    </tr>\n",
       "    <tr>\n",
       "      <th>18</th>\n",
       "      <td>2025-01-19</td>\n",
       "      <td>Telivision</td>\n",
       "      <td>12</td>\n",
       "      <td>2500</td>\n",
       "      <td>North</td>\n",
       "      <td>20</td>\n",
       "      <td>Abhi</td>\n",
       "    </tr>\n",
       "    <tr>\n",
       "      <th>19</th>\n",
       "      <td>2025-01-20</td>\n",
       "      <td>Heater</td>\n",
       "      <td>13</td>\n",
       "      <td>1350</td>\n",
       "      <td>East</td>\n",
       "      <td>25</td>\n",
       "      <td>Manish</td>\n",
       "    </tr>\n",
       "  </tbody>\n",
       "</table>\n",
       "</div>"
      ],
      "text/plain": [
       "         Date     Product Name  Units Sold  Revenue Region  \\\n",
       "0  2025-01-01       Telivision           2     5000  North   \n",
       "1  2025-01-02             Bulb          10     6000   West   \n",
       "2  2025-01-03     Refrigerator           2     4000  North   \n",
       "3  2025-01-04       Smartwatch           5     2500  South   \n",
       "4  2025-01-05       Headphones          15     1500   East   \n",
       "5  2025-01-06       Smartphone           7     7000  South   \n",
       "6  2025-01-07           Tablet           2     3000   East   \n",
       "7  2025-01-08           Laptop           1     6000  North   \n",
       "8  2025-01-09           Heater           2     2000   West   \n",
       "9  2025-01-10       Telivision           1     1300  South   \n",
       "10 2025-01-11           Laptop           5     5500  North   \n",
       "11 2025-01-12  Air Conditioner          10     3500   East   \n",
       "12 2025-01-13       Smartphone           8     6200  South   \n",
       "13 2025-01-14             Bulb          13     2700   West   \n",
       "14 2025-01-15       Headphones          14     1600  North   \n",
       "15 2025-01-16           Laptop           7     7000   East   \n",
       "16 2025-01-17           Tablet           9     3100  South   \n",
       "17 2025-01-18       Smartphone           5     5800   West   \n",
       "18 2025-01-19       Telivision          12     2500  North   \n",
       "19 2025-01-20           Heater          13     1350   East   \n",
       "\n",
       "    Discount Offered (%) Salesperson  \n",
       "0                      0        Abhi  \n",
       "1                      5       Alice  \n",
       "2                     15      Manish  \n",
       "3                     20      Raghav  \n",
       "4                     25      Raghav  \n",
       "5                     10         Raj  \n",
       "6                      5      Manish  \n",
       "7                     15        Abhi  \n",
       "8                     20      Raghav  \n",
       "9                     25         Raj  \n",
       "10                    10        Abhi  \n",
       "11                     5      Raghav  \n",
       "12                    15      Manish  \n",
       "13                    20      Manish  \n",
       "14                    25      Shivam  \n",
       "15                    10         Raj  \n",
       "16                     5        Abhi  \n",
       "17                    15      Shivam  \n",
       "18                    20        Abhi  \n",
       "19                    25      Manish  "
      ]
     },
     "execution_count": 17,
     "metadata": {},
     "output_type": "execute_result"
    }
   ],
   "source": [
    "import pandas as pd\n",
    "import numpy as np\n",
    "data={'Date': pd.to_datetime(['2025-01-01','2025-01-02','2025-01-03','2025-01-04','2025-01-05','2025-01-06','2025-01-07','2025-01-08','2025-01-09','2025-01-10','2025-01-11','2025-01-12','2025-01-13','2025-01-14', '2025-01-15','2025-01-16','2025-01-17','2025-01-18','2025-01-19','2025-01-20']),\n",
    "    'Product Name':['Telivision','Bulb','Refrigerator','Smartwatch','Headphones','Smartphone','Tablet','Laptop','Heater','Telivision','Laptop','Air Conditioner','Smartphone','Bulb','Headphones','Laptop','Tablet','Smartphone','Telivision','Heater'],\n",
    "    'Units Sold': [2,10,2,5,15,7,2,1,2,1,5,10,8,13,14,7,9,5,12,13],\n",
    "    'Revenue': [5000,6000,4000,2500,1500,7000,3000,6000,2000,1300,5500,3500,6200,2700,1600,7000,3100,5800,2500,1350],\n",
    "    'Region': ['North','West','North','South','East','South','East','North','West','South','North','East','South','West','North','East','South','West','North','East'],\n",
    "    'Discount Offered (%)': [0, 5, 15, 20, 25, 10, 5, 15, 20, 25, 10, 5, 15, 20, 25, 10, 5, 15, 20, 25],\n",
    "    'Salesperson': ['Abhi','Alice','Manish','Raghav','Raghav','Raj','Manish','Abhi','Raghav','Raj','Abhi','Raghav','Manish','Manish','Shivam','Raj','Abhi','Shivam','Abhi','Manish']\n",
    "}\n",
    "df=pd.DataFrame(data)\n",
    "df\n",
    "\n"
   ]
  },
  {
   "cell_type": "markdown",
   "id": "2610214e",
   "metadata": {},
   "source": [
    "### Q1\tWhat are the top 3 sales transactions with the highest revenue?"
   ]
  },
  {
   "cell_type": "code",
   "execution_count": 2,
   "id": "c2ff9710",
   "metadata": {},
   "outputs": [
    {
     "data": {
      "text/html": [
       "<div>\n",
       "<style scoped>\n",
       "    .dataframe tbody tr th:only-of-type {\n",
       "        vertical-align: middle;\n",
       "    }\n",
       "\n",
       "    .dataframe tbody tr th {\n",
       "        vertical-align: top;\n",
       "    }\n",
       "\n",
       "    .dataframe thead th {\n",
       "        text-align: right;\n",
       "    }\n",
       "</style>\n",
       "<table border=\"1\" class=\"dataframe\">\n",
       "  <thead>\n",
       "    <tr style=\"text-align: right;\">\n",
       "      <th></th>\n",
       "      <th>Date</th>\n",
       "      <th>Product Name</th>\n",
       "      <th>Units Sold</th>\n",
       "      <th>Revenue</th>\n",
       "      <th>Region</th>\n",
       "      <th>Discount Offered (%)</th>\n",
       "      <th>Salesperson</th>\n",
       "    </tr>\n",
       "  </thead>\n",
       "  <tbody>\n",
       "    <tr>\n",
       "      <th>5</th>\n",
       "      <td>2025-01-06</td>\n",
       "      <td>Smartphone</td>\n",
       "      <td>7</td>\n",
       "      <td>7000</td>\n",
       "      <td>South</td>\n",
       "      <td>10</td>\n",
       "      <td>Raj</td>\n",
       "    </tr>\n",
       "    <tr>\n",
       "      <th>15</th>\n",
       "      <td>2025-01-16</td>\n",
       "      <td>Laptop</td>\n",
       "      <td>7</td>\n",
       "      <td>7000</td>\n",
       "      <td>East</td>\n",
       "      <td>10</td>\n",
       "      <td>Raj</td>\n",
       "    </tr>\n",
       "    <tr>\n",
       "      <th>12</th>\n",
       "      <td>2025-01-13</td>\n",
       "      <td>Smartphone</td>\n",
       "      <td>8</td>\n",
       "      <td>6200</td>\n",
       "      <td>South</td>\n",
       "      <td>15</td>\n",
       "      <td>Manish</td>\n",
       "    </tr>\n",
       "  </tbody>\n",
       "</table>\n",
       "</div>"
      ],
      "text/plain": [
       "         Date Product Name  Units Sold  Revenue Region  Discount Offered (%)  \\\n",
       "5  2025-01-06   Smartphone           7     7000  South                    10   \n",
       "15 2025-01-16       Laptop           7     7000   East                    10   \n",
       "12 2025-01-13   Smartphone           8     6200  South                    15   \n",
       "\n",
       "   Salesperson  \n",
       "5          Raj  \n",
       "15         Raj  \n",
       "12      Manish  "
      ]
     },
     "execution_count": 2,
     "metadata": {},
     "output_type": "execute_result"
    }
   ],
   "source": [
    "df.nlargest(3, 'Revenue')\n",
    "\n"
   ]
  },
  {
   "cell_type": "markdown",
   "id": "e763c9f9",
   "metadata": {},
   "source": [
    "### Q2 How many units of each product were sold?"
   ]
  },
  {
   "cell_type": "code",
   "execution_count": 3,
   "id": "4871ae77",
   "metadata": {},
   "outputs": [
    {
     "data": {
      "text/plain": [
       "Product Name\n",
       "Air Conditioner    10\n",
       "Bulb               23\n",
       "Headphones         29\n",
       "Heater             15\n",
       "Laptop             13\n",
       "Refrigerator        2\n",
       "Smartphone         20\n",
       "Smartwatch          5\n",
       "Tablet             11\n",
       "Telivision         15\n",
       "Name: Units Sold, dtype: int64"
      ]
     },
     "execution_count": 3,
     "metadata": {},
     "output_type": "execute_result"
    }
   ],
   "source": [
    "df.groupby('Product Name')['Units Sold'].sum()"
   ]
  },
  {
   "cell_type": "markdown",
   "id": "f51b10d8",
   "metadata": {},
   "source": [
    "### Q3 What is the total revenue after applying discounts?"
   ]
  },
  {
   "cell_type": "code",
   "execution_count": 4,
   "id": "f0d6fb0b",
   "metadata": {},
   "outputs": [
    {
     "data": {
      "text/plain": [
       "0      85000.0\n",
       "1     102000.0\n",
       "2      68000.0\n",
       "3      42500.0\n",
       "4      25500.0\n",
       "5     119000.0\n",
       "6      51000.0\n",
       "7     102000.0\n",
       "8      34000.0\n",
       "9      22100.0\n",
       "10     93500.0\n",
       "11     59500.0\n",
       "12    105400.0\n",
       "13     45900.0\n",
       "14     27200.0\n",
       "15    119000.0\n",
       "16     52700.0\n",
       "17     98600.0\n",
       "18     42500.0\n",
       "19     22950.0\n",
       "Name: Revenue, dtype: float64"
      ]
     },
     "execution_count": 4,
     "metadata": {},
     "output_type": "execute_result"
    }
   ],
   "source": [
    "df['Revenue'] * (1 - df['Discount Offered (%)'] / 100).sum()"
   ]
  },
  {
   "cell_type": "markdown",
   "id": "73eb822d",
   "metadata": {},
   "source": [
    "### Q4 Which sales transaction had the highest discount offered, and how much revenue did it generate after applying the discount?"
   ]
  },
  {
   "cell_type": "code",
   "execution_count": 5,
   "id": "d9b4df51",
   "metadata": {},
   "outputs": [
    {
     "name": "stdout",
     "output_type": "stream",
     "text": [
      "Date                      2025-01-05 00:00:00\n",
      "Product Name                       Headphones\n",
      "Revenue After Discount                 1125.0\n",
      "Name: 4, dtype: object\n"
     ]
    },
    {
     "name": "stderr",
     "output_type": "stream",
     "text": [
      "C:\\Users\\mca\\AppData\\Local\\Temp\\ipykernel_14932\\1114894555.py:2: SettingWithCopyWarning: \n",
      "A value is trying to be set on a copy of a slice from a DataFrame\n",
      "\n",
      "See the caveats in the documentation: https://pandas.pydata.org/pandas-docs/stable/user_guide/indexing.html#returning-a-view-versus-a-copy\n",
      "  max_discount_transaction['Revenue After Discount']=max_discount_transaction['Revenue'] * (1 - max_discount_transaction['Discount Offered (%)'] / 100)\n",
      "C:\\Users\\mca\\AppData\\Local\\Temp\\ipykernel_14932\\1114894555.py:2: SettingWithCopyWarning: \n",
      "A value is trying to be set on a copy of a slice from a DataFrame\n",
      "\n",
      "See the caveats in the documentation: https://pandas.pydata.org/pandas-docs/stable/user_guide/indexing.html#returning-a-view-versus-a-copy\n",
      "  max_discount_transaction['Revenue After Discount']=max_discount_transaction['Revenue'] * (1 - max_discount_transaction['Discount Offered (%)'] / 100)\n"
     ]
    }
   ],
   "source": [
    "max_discount_transaction=df.loc[df['Discount Offered (%)'].idxmax()]\n",
    "max_discount_transaction['Revenue After Discount']=max_discount_transaction['Revenue'] * (1 - max_discount_transaction['Discount Offered (%)'] / 100)\n",
    "print(max_discount_transaction[['Date', 'Product Name', 'Revenue After Discount']])\n"
   ]
  },
  {
   "cell_type": "markdown",
   "id": "8870d379",
   "metadata": {},
   "source": [
    "### Q5 Which salesperson generated the highest total revenue?"
   ]
  },
  {
   "cell_type": "code",
   "execution_count": 6,
   "id": "8657c1cd",
   "metadata": {},
   "outputs": [
    {
     "data": {
      "text/plain": [
       "Salesperson\n",
       "Abhi    22100\n",
       "Name: Revenue, dtype: int64"
      ]
     },
     "execution_count": 6,
     "metadata": {},
     "output_type": "execute_result"
    }
   ],
   "source": [
    "df.groupby('Salesperson')['Revenue'].sum().head( 1)"
   ]
  },
  {
   "cell_type": "markdown",
   "id": "15ba568d",
   "metadata": {},
   "source": [
    "### Q6 What is the average discount offered by each salesperson?"
   ]
  },
  {
   "cell_type": "code",
   "execution_count": 7,
   "id": "f0e162a7",
   "metadata": {},
   "outputs": [
    {
     "data": {
      "text/plain": [
       "Salesperson\n",
       "Abhi      12.0\n",
       "Alice      5.0\n",
       "Manish    16.0\n",
       "Raghav    17.5\n",
       "Raj       15.0\n",
       "Shivam    20.0\n",
       "Name: Discount Offered (%), dtype: float64"
      ]
     },
     "execution_count": 7,
     "metadata": {},
     "output_type": "execute_result"
    }
   ],
   "source": [
    "df.groupby('Salesperson')['Discount Offered (%)'].mean()"
   ]
  },
  {
   "cell_type": "markdown",
   "id": "c808d26d",
   "metadata": {},
   "source": [
    "### Q7 How much revenue was generated in each region?"
   ]
  },
  {
   "cell_type": "code",
   "execution_count": 8,
   "id": "147d0159",
   "metadata": {},
   "outputs": [
    {
     "data": {
      "text/plain": [
       "Region\n",
       "East     16350\n",
       "North    24600\n",
       "South    20100\n",
       "West     16500\n",
       "Name: Revenue, dtype: int64"
      ]
     },
     "execution_count": 8,
     "metadata": {},
     "output_type": "execute_result"
    }
   ],
   "source": [
    " df.groupby('Region')['Revenue'].sum()"
   ]
  },
  {
   "cell_type": "markdown",
   "id": "64832047",
   "metadata": {},
   "source": [
    "### Q8 In which region did Alice generate the highest sales?"
   ]
  },
  {
   "cell_type": "code",
   "execution_count": 9,
   "id": "63e11799",
   "metadata": {},
   "outputs": [
    {
     "data": {
      "text/plain": [
       "'West'"
      ]
     },
     "execution_count": 9,
     "metadata": {},
     "output_type": "execute_result"
    }
   ],
   "source": [
    "alice=df[df['Salesperson']=='Alice']\n",
    "alice.loc[alice['Revenue'].idxmax(),'Region']"
   ]
  },
  {
   "cell_type": "markdown",
   "id": "c30f8b61",
   "metadata": {},
   "source": [
    "### Q9 Which product generated the highest revenue per unit sold?"
   ]
  },
  {
   "cell_type": "code",
   "execution_count": 20,
   "id": "5be6ff5a",
   "metadata": {},
   "outputs": [
    {
     "data": {
      "text/plain": [
       "'Laptop'"
      ]
     },
     "execution_count": 20,
     "metadata": {},
     "output_type": "execute_result"
    }
   ],
   "source": [
    "df['Rpu']=df['Revenue']/df['Units Sold']\n",
    "df.loc[df['Rpu'].idxmax(),'Product Name']"
   ]
  },
  {
   "cell_type": "markdown",
   "id": "d055b9ec",
   "metadata": {},
   "source": [
    "### Q10 How many transactions were rated as \"High\" performance?"
   ]
  },
  {
   "cell_type": "code",
   "execution_count": 14,
   "id": "e83fc561",
   "metadata": {},
   "outputs": [
    {
     "data": {
      "text/plain": [
       "11"
      ]
     },
     "execution_count": 14,
     "metadata": {},
     "output_type": "execute_result"
    }
   ],
   "source": [
    "df[df['Revenue']>3000].shape[0]"
   ]
  },
  {
   "cell_type": "markdown",
   "id": "e05def59",
   "metadata": {},
   "source": [
    "### Q11 Which salesperson sold the most units in the North region without offering any discount?"
   ]
  },
  {
   "cell_type": "code",
   "execution_count": 18,
   "id": "a12b1636",
   "metadata": {},
   "outputs": [
    {
     "data": {
      "text/plain": [
       "'Abhi'"
      ]
     },
     "execution_count": 18,
     "metadata": {},
     "output_type": "execute_result"
    }
   ],
   "source": [
    "north_sales_no_discount = df[(df['Region'] == 'North') & (df['Discount Offered (%)'] == 0)]\n",
    "top_salesperson_north = north_sales_no_discount.groupby('Salesperson')['Units Sold'].sum().idxmax()\n",
    "top_salesperson_north"
   ]
  },
  {
   "cell_type": "markdown",
   "id": "3dad5b33",
   "metadata": {},
   "source": [
    "### Q12What is the average revenue per unit sold in each region for each product?"
   ]
  },
  {
   "cell_type": "code",
   "execution_count": 21,
   "id": "ada57ef2",
   "metadata": {},
   "outputs": [
    {
     "data": {
      "text/plain": [
       "Region  Product Name   \n",
       "East    Air Conditioner     350.000000\n",
       "        Headphones          100.000000\n",
       "        Heater              103.846154\n",
       "        Laptop             1000.000000\n",
       "        Tablet             1500.000000\n",
       "North   Headphones          114.285714\n",
       "        Laptop             3550.000000\n",
       "        Refrigerator       2000.000000\n",
       "        Telivision         1354.166667\n",
       "South   Smartphone          887.500000\n",
       "        Smartwatch          500.000000\n",
       "        Tablet              344.444444\n",
       "        Telivision         1300.000000\n",
       "West    Bulb                403.846154\n",
       "        Heater             1000.000000\n",
       "        Smartphone         1160.000000\n",
       "Name: Rpu, dtype: float64"
      ]
     },
     "execution_count": 21,
     "metadata": {},
     "output_type": "execute_result"
    }
   ],
   "source": [
    "df.groupby(['Region', 'Product Name'])['Rpu'].mean()"
   ]
  },
  {
   "cell_type": "markdown",
   "id": "680eaaa4",
   "metadata": {},
   "source": [
    "### Q13 Which salesperson has the highest average revenue after discounts, and how does it compare between regions?"
   ]
  },
  {
   "cell_type": "code",
   "execution_count": 24,
   "id": "de075f9f",
   "metadata": {},
   "outputs": [
    {
     "data": {
      "text/plain": [
       "'Alice'"
      ]
     },
     "execution_count": 24,
     "metadata": {},
     "output_type": "execute_result"
    }
   ],
   "source": [
    "df['Revenue After Discount'] = df['Revenue'] * (1 - df['Discount Offered (%)'] / 100)\n",
    "df.groupby('Salesperson')['Revenue After Discount'].mean().idxmax()"
   ]
  },
  {
   "cell_type": "code",
   "execution_count": 25,
   "id": "12d0a8d1",
   "metadata": {},
   "outputs": [
    {
     "data": {
      "text/plain": [
       "Salesperson  Region\n",
       "Abhi         North     4262.50\n",
       "             South     2945.00\n",
       "Alice        West      5700.00\n",
       "Manish       East      1931.25\n",
       "             North     3400.00\n",
       "             South     5270.00\n",
       "             West      2160.00\n",
       "Raghav       East      2225.00\n",
       "             South     2000.00\n",
       "             West      1600.00\n",
       "Raj          East      6300.00\n",
       "             South     3637.50\n",
       "Shivam       North     1200.00\n",
       "             West      4930.00\n",
       "Name: Revenue After Discount, dtype: float64"
      ]
     },
     "execution_count": 25,
     "metadata": {},
     "output_type": "execute_result"
    }
   ],
   "source": [
    "df.groupby(['Salesperson','Region'])['Revenue After Discount'].mean()"
   ]
  },
  {
   "cell_type": "markdown",
   "id": "b6999aac",
   "metadata": {},
   "source": [
    "### Q14 What is the cumulative total revenue over time for each salesperson?"
   ]
  },
  {
   "cell_type": "code",
   "execution_count": 26,
   "id": "1953ecd7",
   "metadata": {},
   "outputs": [
    {
     "name": "stdout",
     "output_type": "stream",
     "text": [
      "   Salesperson       Date  Cumulative Revenue\n",
      "0         Abhi 2025-01-01                5000\n",
      "1        Alice 2025-01-02                6000\n",
      "2       Manish 2025-01-03                4000\n",
      "3       Raghav 2025-01-04                2500\n",
      "4       Raghav 2025-01-05                4000\n",
      "5          Raj 2025-01-06                7000\n",
      "6       Manish 2025-01-07                7000\n",
      "7         Abhi 2025-01-08               11000\n",
      "8       Raghav 2025-01-09                6000\n",
      "9          Raj 2025-01-10                8300\n",
      "10        Abhi 2025-01-11               16500\n",
      "11      Raghav 2025-01-12                9500\n",
      "12      Manish 2025-01-13               13200\n",
      "13      Manish 2025-01-14               15900\n",
      "14      Shivam 2025-01-15                1600\n",
      "15         Raj 2025-01-16               15300\n",
      "16        Abhi 2025-01-17               19600\n",
      "17      Shivam 2025-01-18                7400\n",
      "18        Abhi 2025-01-19               22100\n",
      "19      Manish 2025-01-20               17250\n"
     ]
    }
   ],
   "source": [
    "df['Date'] = pd.to_datetime(df['Date'])\n",
    "df['Cumulative Revenue'] = df.groupby('Salesperson')['Revenue'].cumsum()\n",
    "print(df[['Salesperson', 'Date', 'Cumulative Revenue']])"
   ]
  },
  {
   "cell_type": "markdown",
   "id": "ea25db99",
   "metadata": {},
   "source": [
    "### Q15 For each salesperson, rank the transactions by revenue, and find the top 2 transactions for each."
   ]
  },
  {
   "cell_type": "code",
   "execution_count": 28,
   "id": "65493738",
   "metadata": {},
   "outputs": [
    {
     "data": {
      "text/html": [
       "<div>\n",
       "<style scoped>\n",
       "    .dataframe tbody tr th:only-of-type {\n",
       "        vertical-align: middle;\n",
       "    }\n",
       "\n",
       "    .dataframe tbody tr th {\n",
       "        vertical-align: top;\n",
       "    }\n",
       "\n",
       "    .dataframe thead th {\n",
       "        text-align: right;\n",
       "    }\n",
       "</style>\n",
       "<table border=\"1\" class=\"dataframe\">\n",
       "  <thead>\n",
       "    <tr style=\"text-align: right;\">\n",
       "      <th></th>\n",
       "      <th>Date</th>\n",
       "      <th>Product Name</th>\n",
       "      <th>Units Sold</th>\n",
       "      <th>Revenue</th>\n",
       "      <th>Region</th>\n",
       "      <th>Discount Offered (%)</th>\n",
       "      <th>Salesperson</th>\n",
       "      <th>Rpu</th>\n",
       "      <th>Revenue After Discount</th>\n",
       "      <th>Cumulative Revenue</th>\n",
       "      <th>Revenue Rank</th>\n",
       "    </tr>\n",
       "  </thead>\n",
       "  <tbody>\n",
       "    <tr>\n",
       "      <th>1</th>\n",
       "      <td>2025-01-02</td>\n",
       "      <td>Bulb</td>\n",
       "      <td>10</td>\n",
       "      <td>6000</td>\n",
       "      <td>West</td>\n",
       "      <td>5</td>\n",
       "      <td>Alice</td>\n",
       "      <td>600.000000</td>\n",
       "      <td>5700.0</td>\n",
       "      <td>6000</td>\n",
       "      <td>1.0</td>\n",
       "    </tr>\n",
       "    <tr>\n",
       "      <th>2</th>\n",
       "      <td>2025-01-03</td>\n",
       "      <td>Refrigerator</td>\n",
       "      <td>2</td>\n",
       "      <td>4000</td>\n",
       "      <td>North</td>\n",
       "      <td>15</td>\n",
       "      <td>Manish</td>\n",
       "      <td>2000.000000</td>\n",
       "      <td>3400.0</td>\n",
       "      <td>4000</td>\n",
       "      <td>2.0</td>\n",
       "    </tr>\n",
       "    <tr>\n",
       "      <th>3</th>\n",
       "      <td>2025-01-04</td>\n",
       "      <td>Smartwatch</td>\n",
       "      <td>5</td>\n",
       "      <td>2500</td>\n",
       "      <td>South</td>\n",
       "      <td>20</td>\n",
       "      <td>Raghav</td>\n",
       "      <td>500.000000</td>\n",
       "      <td>2000.0</td>\n",
       "      <td>2500</td>\n",
       "      <td>2.0</td>\n",
       "    </tr>\n",
       "    <tr>\n",
       "      <th>5</th>\n",
       "      <td>2025-01-06</td>\n",
       "      <td>Smartphone</td>\n",
       "      <td>7</td>\n",
       "      <td>7000</td>\n",
       "      <td>South</td>\n",
       "      <td>10</td>\n",
       "      <td>Raj</td>\n",
       "      <td>1000.000000</td>\n",
       "      <td>6300.0</td>\n",
       "      <td>7000</td>\n",
       "      <td>1.5</td>\n",
       "    </tr>\n",
       "    <tr>\n",
       "      <th>7</th>\n",
       "      <td>2025-01-08</td>\n",
       "      <td>Laptop</td>\n",
       "      <td>1</td>\n",
       "      <td>6000</td>\n",
       "      <td>North</td>\n",
       "      <td>15</td>\n",
       "      <td>Abhi</td>\n",
       "      <td>6000.000000</td>\n",
       "      <td>5100.0</td>\n",
       "      <td>11000</td>\n",
       "      <td>1.0</td>\n",
       "    </tr>\n",
       "    <tr>\n",
       "      <th>10</th>\n",
       "      <td>2025-01-11</td>\n",
       "      <td>Laptop</td>\n",
       "      <td>5</td>\n",
       "      <td>5500</td>\n",
       "      <td>North</td>\n",
       "      <td>10</td>\n",
       "      <td>Abhi</td>\n",
       "      <td>1100.000000</td>\n",
       "      <td>4950.0</td>\n",
       "      <td>16500</td>\n",
       "      <td>2.0</td>\n",
       "    </tr>\n",
       "    <tr>\n",
       "      <th>11</th>\n",
       "      <td>2025-01-12</td>\n",
       "      <td>Air Conditioner</td>\n",
       "      <td>10</td>\n",
       "      <td>3500</td>\n",
       "      <td>East</td>\n",
       "      <td>5</td>\n",
       "      <td>Raghav</td>\n",
       "      <td>350.000000</td>\n",
       "      <td>3325.0</td>\n",
       "      <td>9500</td>\n",
       "      <td>1.0</td>\n",
       "    </tr>\n",
       "    <tr>\n",
       "      <th>12</th>\n",
       "      <td>2025-01-13</td>\n",
       "      <td>Smartphone</td>\n",
       "      <td>8</td>\n",
       "      <td>6200</td>\n",
       "      <td>South</td>\n",
       "      <td>15</td>\n",
       "      <td>Manish</td>\n",
       "      <td>775.000000</td>\n",
       "      <td>5270.0</td>\n",
       "      <td>13200</td>\n",
       "      <td>1.0</td>\n",
       "    </tr>\n",
       "    <tr>\n",
       "      <th>14</th>\n",
       "      <td>2025-01-15</td>\n",
       "      <td>Headphones</td>\n",
       "      <td>14</td>\n",
       "      <td>1600</td>\n",
       "      <td>North</td>\n",
       "      <td>25</td>\n",
       "      <td>Shivam</td>\n",
       "      <td>114.285714</td>\n",
       "      <td>1200.0</td>\n",
       "      <td>1600</td>\n",
       "      <td>2.0</td>\n",
       "    </tr>\n",
       "    <tr>\n",
       "      <th>15</th>\n",
       "      <td>2025-01-16</td>\n",
       "      <td>Laptop</td>\n",
       "      <td>7</td>\n",
       "      <td>7000</td>\n",
       "      <td>East</td>\n",
       "      <td>10</td>\n",
       "      <td>Raj</td>\n",
       "      <td>1000.000000</td>\n",
       "      <td>6300.0</td>\n",
       "      <td>15300</td>\n",
       "      <td>1.5</td>\n",
       "    </tr>\n",
       "    <tr>\n",
       "      <th>17</th>\n",
       "      <td>2025-01-18</td>\n",
       "      <td>Smartphone</td>\n",
       "      <td>5</td>\n",
       "      <td>5800</td>\n",
       "      <td>West</td>\n",
       "      <td>15</td>\n",
       "      <td>Shivam</td>\n",
       "      <td>1160.000000</td>\n",
       "      <td>4930.0</td>\n",
       "      <td>7400</td>\n",
       "      <td>1.0</td>\n",
       "    </tr>\n",
       "  </tbody>\n",
       "</table>\n",
       "</div>"
      ],
      "text/plain": [
       "         Date     Product Name  Units Sold  Revenue Region  \\\n",
       "1  2025-01-02             Bulb          10     6000   West   \n",
       "2  2025-01-03     Refrigerator           2     4000  North   \n",
       "3  2025-01-04       Smartwatch           5     2500  South   \n",
       "5  2025-01-06       Smartphone           7     7000  South   \n",
       "7  2025-01-08           Laptop           1     6000  North   \n",
       "10 2025-01-11           Laptop           5     5500  North   \n",
       "11 2025-01-12  Air Conditioner          10     3500   East   \n",
       "12 2025-01-13       Smartphone           8     6200  South   \n",
       "14 2025-01-15       Headphones          14     1600  North   \n",
       "15 2025-01-16           Laptop           7     7000   East   \n",
       "17 2025-01-18       Smartphone           5     5800   West   \n",
       "\n",
       "    Discount Offered (%) Salesperson          Rpu  Revenue After Discount  \\\n",
       "1                      5       Alice   600.000000                  5700.0   \n",
       "2                     15      Manish  2000.000000                  3400.0   \n",
       "3                     20      Raghav   500.000000                  2000.0   \n",
       "5                     10         Raj  1000.000000                  6300.0   \n",
       "7                     15        Abhi  6000.000000                  5100.0   \n",
       "10                    10        Abhi  1100.000000                  4950.0   \n",
       "11                     5      Raghav   350.000000                  3325.0   \n",
       "12                    15      Manish   775.000000                  5270.0   \n",
       "14                    25      Shivam   114.285714                  1200.0   \n",
       "15                    10         Raj  1000.000000                  6300.0   \n",
       "17                    15      Shivam  1160.000000                  4930.0   \n",
       "\n",
       "    Cumulative Revenue  Revenue Rank  \n",
       "1                 6000           1.0  \n",
       "2                 4000           2.0  \n",
       "3                 2500           2.0  \n",
       "5                 7000           1.5  \n",
       "7                11000           1.0  \n",
       "10               16500           2.0  \n",
       "11                9500           1.0  \n",
       "12               13200           1.0  \n",
       "14                1600           2.0  \n",
       "15               15300           1.5  \n",
       "17                7400           1.0  "
      ]
     },
     "execution_count": 28,
     "metadata": {},
     "output_type": "execute_result"
    }
   ],
   "source": [
    "df['Revenue Rank']=df.groupby('Salesperson')['Revenue'].rank(ascending=False)\n",
    "top1=df[df['Revenue Rank']<=2]\n",
    "top1"
   ]
  },
  {
   "cell_type": "markdown",
   "id": "eaa34017",
   "metadata": {},
   "source": [
    "### Q16 How has the total revenue generated by each product changed over time? Show cumulative revenue for each product per day."
   ]
  },
  {
   "cell_type": "code",
   "execution_count": 30,
   "id": "37d424a6",
   "metadata": {},
   "outputs": [
    {
     "data": {
      "text/html": [
       "<div>\n",
       "<style scoped>\n",
       "    .dataframe tbody tr th:only-of-type {\n",
       "        vertical-align: middle;\n",
       "    }\n",
       "\n",
       "    .dataframe tbody tr th {\n",
       "        vertical-align: top;\n",
       "    }\n",
       "\n",
       "    .dataframe thead th {\n",
       "        text-align: right;\n",
       "    }\n",
       "</style>\n",
       "<table border=\"1\" class=\"dataframe\">\n",
       "  <thead>\n",
       "    <tr style=\"text-align: right;\">\n",
       "      <th></th>\n",
       "      <th>Date</th>\n",
       "      <th>Product Name</th>\n",
       "      <th>Cumulative_Revenue_Product</th>\n",
       "    </tr>\n",
       "  </thead>\n",
       "  <tbody>\n",
       "    <tr>\n",
       "      <th>11</th>\n",
       "      <td>2025-01-12</td>\n",
       "      <td>Air Conditioner</td>\n",
       "      <td>3500</td>\n",
       "    </tr>\n",
       "    <tr>\n",
       "      <th>1</th>\n",
       "      <td>2025-01-02</td>\n",
       "      <td>Bulb</td>\n",
       "      <td>6000</td>\n",
       "    </tr>\n",
       "    <tr>\n",
       "      <th>13</th>\n",
       "      <td>2025-01-14</td>\n",
       "      <td>Bulb</td>\n",
       "      <td>2700</td>\n",
       "    </tr>\n",
       "    <tr>\n",
       "      <th>4</th>\n",
       "      <td>2025-01-05</td>\n",
       "      <td>Headphones</td>\n",
       "      <td>5000</td>\n",
       "    </tr>\n",
       "    <tr>\n",
       "      <th>14</th>\n",
       "      <td>2025-01-15</td>\n",
       "      <td>Headphones</td>\n",
       "      <td>1600</td>\n",
       "    </tr>\n",
       "    <tr>\n",
       "      <th>8</th>\n",
       "      <td>2025-01-09</td>\n",
       "      <td>Heater</td>\n",
       "      <td>7000</td>\n",
       "    </tr>\n",
       "    <tr>\n",
       "      <th>19</th>\n",
       "      <td>2025-01-20</td>\n",
       "      <td>Heater</td>\n",
       "      <td>4050</td>\n",
       "    </tr>\n",
       "    <tr>\n",
       "      <th>7</th>\n",
       "      <td>2025-01-08</td>\n",
       "      <td>Laptop</td>\n",
       "      <td>6000</td>\n",
       "    </tr>\n",
       "    <tr>\n",
       "      <th>10</th>\n",
       "      <td>2025-01-11</td>\n",
       "      <td>Laptop</td>\n",
       "      <td>11500</td>\n",
       "    </tr>\n",
       "    <tr>\n",
       "      <th>15</th>\n",
       "      <td>2025-01-16</td>\n",
       "      <td>Laptop</td>\n",
       "      <td>7000</td>\n",
       "    </tr>\n",
       "    <tr>\n",
       "      <th>2</th>\n",
       "      <td>2025-01-03</td>\n",
       "      <td>Refrigerator</td>\n",
       "      <td>8050</td>\n",
       "    </tr>\n",
       "    <tr>\n",
       "      <th>5</th>\n",
       "      <td>2025-01-06</td>\n",
       "      <td>Smartphone</td>\n",
       "      <td>14000</td>\n",
       "    </tr>\n",
       "    <tr>\n",
       "      <th>12</th>\n",
       "      <td>2025-01-13</td>\n",
       "      <td>Smartphone</td>\n",
       "      <td>14250</td>\n",
       "    </tr>\n",
       "    <tr>\n",
       "      <th>17</th>\n",
       "      <td>2025-01-18</td>\n",
       "      <td>Smartphone</td>\n",
       "      <td>7400</td>\n",
       "    </tr>\n",
       "    <tr>\n",
       "      <th>3</th>\n",
       "      <td>2025-01-04</td>\n",
       "      <td>Smartwatch</td>\n",
       "      <td>9500</td>\n",
       "    </tr>\n",
       "    <tr>\n",
       "      <th>6</th>\n",
       "      <td>2025-01-07</td>\n",
       "      <td>Tablet</td>\n",
       "      <td>17250</td>\n",
       "    </tr>\n",
       "    <tr>\n",
       "      <th>16</th>\n",
       "      <td>2025-01-17</td>\n",
       "      <td>Tablet</td>\n",
       "      <td>14600</td>\n",
       "    </tr>\n",
       "    <tr>\n",
       "      <th>0</th>\n",
       "      <td>2025-01-01</td>\n",
       "      <td>Telivision</td>\n",
       "      <td>19600</td>\n",
       "    </tr>\n",
       "    <tr>\n",
       "      <th>9</th>\n",
       "      <td>2025-01-10</td>\n",
       "      <td>Telivision</td>\n",
       "      <td>15300</td>\n",
       "    </tr>\n",
       "    <tr>\n",
       "      <th>18</th>\n",
       "      <td>2025-01-19</td>\n",
       "      <td>Telivision</td>\n",
       "      <td>22100</td>\n",
       "    </tr>\n",
       "  </tbody>\n",
       "</table>\n",
       "</div>"
      ],
      "text/plain": [
       "         Date     Product Name  Cumulative_Revenue_Product\n",
       "11 2025-01-12  Air Conditioner                        3500\n",
       "1  2025-01-02             Bulb                        6000\n",
       "13 2025-01-14             Bulb                        2700\n",
       "4  2025-01-05       Headphones                        5000\n",
       "14 2025-01-15       Headphones                        1600\n",
       "8  2025-01-09           Heater                        7000\n",
       "19 2025-01-20           Heater                        4050\n",
       "7  2025-01-08           Laptop                        6000\n",
       "10 2025-01-11           Laptop                       11500\n",
       "15 2025-01-16           Laptop                        7000\n",
       "2  2025-01-03     Refrigerator                        8050\n",
       "5  2025-01-06       Smartphone                       14000\n",
       "12 2025-01-13       Smartphone                       14250\n",
       "17 2025-01-18       Smartphone                        7400\n",
       "3  2025-01-04       Smartwatch                        9500\n",
       "6  2025-01-07           Tablet                       17250\n",
       "16 2025-01-17           Tablet                       14600\n",
       "0  2025-01-01       Telivision                       19600\n",
       "9  2025-01-10       Telivision                       15300\n",
       "18 2025-01-19       Telivision                       22100"
      ]
     },
     "execution_count": 30,
     "metadata": {},
     "output_type": "execute_result"
    }
   ],
   "source": [
    "dfne=df.sort_values(by=['Product Name', 'Date'])\n",
    "dfne['Cumulative_Revenue_Product'] = dfne.groupby('Salesperson')['Revenue'].cumsum()\n",
    "dfne[['Date','Product Name','Cumulative_Revenue_Product']]"
   ]
  },
  {
   "cell_type": "markdown",
   "id": "7df211ae",
   "metadata": {},
   "source": [
    "### Q17 Analyze how discounts affect revenue. For each product, what is the average revenue generated with a discount compared to without a discount?"
   ]
  },
  {
   "cell_type": "code",
   "execution_count": 31,
   "id": "ed52078b",
   "metadata": {},
   "outputs": [
    {
     "name": "stdout",
     "output_type": "stream",
     "text": [
      "Avg revenue without discount\n"
     ]
    },
    {
     "data": {
      "text/plain": [
       "Product Name\n",
       "Air Conditioner    3500.000000\n",
       "Bulb               4350.000000\n",
       "Headphones         1550.000000\n",
       "Heater             1675.000000\n",
       "Laptop             6166.666667\n",
       "Refrigerator       4000.000000\n",
       "Smartphone         6333.333333\n",
       "Smartwatch         2500.000000\n",
       "Tablet             3050.000000\n",
       "Telivision         2933.333333\n",
       "Name: Revenue, dtype: float64"
      ]
     },
     "execution_count": 31,
     "metadata": {},
     "output_type": "execute_result"
    }
   ],
   "source": [
    "print(\"Without discount\")\n",
    "df.groupby('Product Name')['Revenue'].mean()"
   ]
  },
  {
   "cell_type": "code",
   "execution_count": 34,
   "id": "4315e54a",
   "metadata": {},
   "outputs": [
    {
     "data": {
      "text/plain": [
       "[<matplotlib.lines.Line2D at 0x1a15195bfd0>]"
      ]
     },
     "execution_count": 34,
     "metadata": {},
     "output_type": "execute_result"
    },
    {
     "data": {
      "image/png": "[encoded data removed]",
      "text/plain": [
       "<Figure size 432x288 with 1 Axes>"
      ]
     },
     "metadata": {
      "needs_background": "light"
     },
     "output_type": "display_data"
    }
   ],
   "source": [
    "import matplotlib.pyplot as plt\n",
    "plt.plot(df.groupby('Product Name')['Revenue'].mean())"
   ]
  },
  {
   "cell_type": "code",
   "execution_count": 35,
   "id": "00a1d9f5",
   "metadata": {},
   "outputs": [
    {
     "name": "stdout",
     "output_type": "stream",
     "text": [
      "With discount\n"
     ]
    },
    {
     "data": {
      "text/plain": [
       "Product Name\n",
       "Air Conditioner    3325.000000\n",
       "Bulb               3930.000000\n",
       "Headphones         1162.500000\n",
       "Heater             1306.250000\n",
       "Laptop             5450.000000\n",
       "Refrigerator       3400.000000\n",
       "Smartphone         5500.000000\n",
       "Smartwatch         2000.000000\n",
       "Tablet             2897.500000\n",
       "Telivision         2658.333333\n",
       "Name: Revenue After Discount, dtype: float64"
      ]
     },
     "execution_count": 35,
     "metadata": {},
     "output_type": "execute_result"
    }
   ],
   "source": [
    "print(\"With discount\")\n",
    "df.groupby('Product Name')['Revenue After Discount'].mean()"
   ]
  },
  {
   "cell_type": "code",
   "execution_count": 36,
   "id": "325b5e06",
   "metadata": {},
   "outputs": [
    {
     "data": {
      "text/plain": [
       "[<matplotlib.lines.Line2D at 0x1a1521006d0>]"
      ]
     },
     "execution_count": 36,
     "metadata": {},
     "output_type": "execute_result"
    },
    {
     "data": {
      "image/png": "[encoded data removed]",
      "text/plain": [
       "<Figure size 432x288 with 1 Axes>"
      ]
     },
     "metadata": {
      "needs_background": "light"
     },
     "output_type": "display_data"
    }
   ],
   "source": [
    "plt.plot(df.groupby('Product Name')['Revenue After Discount'].mean())"
   ]
  },
  {
   "cell_type": "markdown",
   "id": "3299d3d6",
   "metadata": {},
   "source": [
    "### Q18 What is the weighted average discount offered by each salesperson, weighted by the revenue they generated?"
   ]
  },
  {
   "cell_type": "code",
   "execution_count": 38,
   "id": "8e0ae3d9",
   "metadata": {},
   "outputs": [
    {
     "data": {
      "text/html": [
       "<div>\n",
       "<style scoped>\n",
       "    .dataframe tbody tr th:only-of-type {\n",
       "        vertical-align: middle;\n",
       "    }\n",
       "\n",
       "    .dataframe tbody tr th {\n",
       "        vertical-align: top;\n",
       "    }\n",
       "\n",
       "    .dataframe thead th {\n",
       "        text-align: right;\n",
       "    }\n",
       "</style>\n",
       "<table border=\"1\" class=\"dataframe\">\n",
       "  <thead>\n",
       "    <tr style=\"text-align: right;\">\n",
       "      <th></th>\n",
       "      <th>Salesperson</th>\n",
       "      <th>Weighted Discount</th>\n",
       "    </tr>\n",
       "  </thead>\n",
       "  <tbody>\n",
       "    <tr>\n",
       "      <th>0</th>\n",
       "      <td>Abhi</td>\n",
       "      <td>2.714378</td>\n",
       "    </tr>\n",
       "    <tr>\n",
       "      <th>1</th>\n",
       "      <td>Alice</td>\n",
       "      <td>0.386847</td>\n",
       "    </tr>\n",
       "    <tr>\n",
       "      <th>2</th>\n",
       "      <td>Manish</td>\n",
       "      <td>3.297872</td>\n",
       "    </tr>\n",
       "    <tr>\n",
       "      <th>3</th>\n",
       "      <td>Raghav</td>\n",
       "      <td>1.869761</td>\n",
       "    </tr>\n",
       "    <tr>\n",
       "      <th>4</th>\n",
       "      <td>Raj</td>\n",
       "      <td>2.224371</td>\n",
       "    </tr>\n",
       "    <tr>\n",
       "      <th>5</th>\n",
       "      <td>Shivam</td>\n",
       "      <td>1.637653</td>\n",
       "    </tr>\n",
       "  </tbody>\n",
       "</table>\n",
       "</div>"
      ],
      "text/plain": [
       "  Salesperson  Weighted Discount\n",
       "0        Abhi           2.714378\n",
       "1       Alice           0.386847\n",
       "2      Manish           3.297872\n",
       "3      Raghav           1.869761\n",
       "4         Raj           2.224371\n",
       "5      Shivam           1.637653"
      ]
     },
     "execution_count": 38,
     "metadata": {},
     "output_type": "execute_result"
    }
   ],
   "source": [
    "df['Weighted Discount']=df['Discount Offered (%)']*(df['Revenue']/df['Revenue'].sum())\n",
    "weighted_average_discount=df.groupby('Salesperson').agg({'Weighted Discount': 'sum'}).reset_index()\n",
    "weighted_average_discount"
   ]
  },
  {
   "cell_type": "markdown",
   "id": "b7a8748a",
   "metadata": {},
   "source": [
    "### Q19 What percentage of the total revenue does each region contribute? Compare it to the total revenue per region"
   ]
  },
  {
   "cell_type": "code",
   "execution_count": 39,
   "id": "5109ef5b",
   "metadata": {},
   "outputs": [
    {
     "data": {
      "text/html": [
       "<div>\n",
       "<style scoped>\n",
       "    .dataframe tbody tr th:only-of-type {\n",
       "        vertical-align: middle;\n",
       "    }\n",
       "\n",
       "    .dataframe tbody tr th {\n",
       "        vertical-align: top;\n",
       "    }\n",
       "\n",
       "    .dataframe thead th {\n",
       "        text-align: right;\n",
       "    }\n",
       "</style>\n",
       "<table border=\"1\" class=\"dataframe\">\n",
       "  <thead>\n",
       "    <tr style=\"text-align: right;\">\n",
       "      <th></th>\n",
       "      <th>Region</th>\n",
       "      <th>Revenue</th>\n",
       "      <th>Percentage Contribution</th>\n",
       "    </tr>\n",
       "  </thead>\n",
       "  <tbody>\n",
       "    <tr>\n",
       "      <th>0</th>\n",
       "      <td>East</td>\n",
       "      <td>16350</td>\n",
       "      <td>21.083172</td>\n",
       "    </tr>\n",
       "    <tr>\n",
       "      <th>1</th>\n",
       "      <td>North</td>\n",
       "      <td>24600</td>\n",
       "      <td>31.721470</td>\n",
       "    </tr>\n",
       "    <tr>\n",
       "      <th>2</th>\n",
       "      <td>South</td>\n",
       "      <td>20100</td>\n",
       "      <td>25.918762</td>\n",
       "    </tr>\n",
       "    <tr>\n",
       "      <th>3</th>\n",
       "      <td>West</td>\n",
       "      <td>16500</td>\n",
       "      <td>21.276596</td>\n",
       "    </tr>\n",
       "  </tbody>\n",
       "</table>\n",
       "</div>"
      ],
      "text/plain": [
       "  Region  Revenue  Percentage Contribution\n",
       "0   East    16350                21.083172\n",
       "1  North    24600                31.721470\n",
       "2  South    20100                25.918762\n",
       "3   West    16500                21.276596"
      ]
     },
     "execution_count": 39,
     "metadata": {},
     "output_type": "execute_result"
    }
   ],
   "source": [
    "total_revenue_per_region=df.groupby('Region')['Revenue'].sum().reset_index()\n",
    "total_revenue=total_revenue_per_region['Revenue'].sum()\n",
    "total_revenue_per_region['Percentage Contribution']=(total_revenue_per_region['Revenue'] / total_revenue) * 100\n",
    "total_revenue_per_region\n"
   ]
  },
  {
   "cell_type": "code",
   "execution_count": null,
   "id": "79b41f55",
   "metadata": {},
   "outputs": [],
   "source": []
  }
 ],
 "metadata": {
  "kernelspec": {
   "display_name": "Python 3 (ipykernel)",
   "language": "python",
   "name": "python3"
  },
  "language_info": {
   "codemirror_mode": {
    "name": "ipython",
    "version": 3
   },
   "file_extension": ".py",
   "mimetype": "text/x-python",
   "name": "python",
   "nbconvert_exporter": "python",
   "pygments_lexer": "ipython3",
   "version": "3.9.12"
  }
 },
 "nbformat": 4,
 "nbformat_minor": 5
}
